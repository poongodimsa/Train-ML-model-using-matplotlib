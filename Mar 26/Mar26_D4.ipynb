{
 "cells": [
  {
   "cell_type": "markdown",
   "metadata": {},
   "source": [
    "# Dialogue 4\n",
    "\n",
    "Author: Poongodi P\n"
   ]
  },
  {
   "cell_type": "code",
   "execution_count": 1,
   "metadata": {},
   "outputs": [],
   "source": [
    "#Initial cell\n",
    "%matplotlib inline\n",
    "import pylab as plt\n",
    "import numpy as np\n",
    "\n",
    "pageSpeeds = np.random.normal(3.0, 1.0, 10000)\n",
    "purchaseAmount = np.random.normal(50.0, 10.0, 10000) * pageSpeeds"
   ]
  },
  {
   "cell_type": "code",
   "execution_count": 4,
   "metadata": {},
   "outputs": [],
   "source": [
    "#Plot a histogram for pageSpeeds"
   ]
  },
  {
   "cell_type": "code",
   "execution_count": 2,
   "metadata": {},
   "outputs": [
    {
     "data": {
      "text/plain": [
       "(array([3.000e+00, 5.500e+01, 4.660e+02, 1.567e+03, 3.011e+03, 2.950e+03,\n",
       "        1.470e+03, 4.110e+02, 6.200e+01, 5.000e+00]),\n",
       " array([-1.15304713, -0.31770659,  0.51763395,  1.35297449,  2.18831502,\n",
       "         3.02365556,  3.8589961 ,  4.69433664,  5.52967718,  6.36501771,\n",
       "         7.20035825]),\n",
       " <BarContainer object of 10 artists>)"
      ]
     },
     "execution_count": 2,
     "metadata": {},
     "output_type": "execute_result"
    },
    {
     "data": {
      "image/png": "[encoded data removed]",
      "text/plain": [
       "<Figure size 432x288 with 1 Axes>"
      ]
     },
     "metadata": {
      "needs_background": "light"
     },
     "output_type": "display_data"
    }
   ],
   "source": [
    "fig, ax = plt.subplots()\n",
    "plt.hist(pageSpeeds)"
   ]
  },
  {
   "cell_type": "code",
   "execution_count": 7,
   "metadata": {},
   "outputs": [],
   "source": [
    "#set number of bins to 15"
   ]
  },
  {
   "cell_type": "code",
   "execution_count": 8,
   "metadata": {},
   "outputs": [
    {
     "data": {
      "text/plain": [
       "(array([   3.,    6.,   49.,  235.,  578., 1220., 1913., 2196., 1852.,\n",
       "        1128.,  550.,  203.,   57.,    7.,    3.]),\n",
       " array([-1.15304713, -0.59615344, -0.03925974,  0.51763395,  1.07452764,\n",
       "         1.63142133,  2.18831502,  2.74520872,  3.30210241,  3.8589961 ,\n",
       "         4.41588979,  4.97278348,  5.52967718,  6.08657087,  6.64346456,\n",
       "         7.20035825]),\n",
       " <BarContainer object of 15 artists>)"
      ]
     },
     "execution_count": 8,
     "metadata": {},
     "output_type": "execute_result"
    },
    {
     "data": {
      "image/png": "[encoded data removed]",
      "text/plain": [
       "<Figure size 432x288 with 1 Axes>"
      ]
     },
     "metadata": {
      "needs_background": "light"
     },
     "output_type": "display_data"
    }
   ],
   "source": [
    "fig, ax = plt.subplots()\n",
    "plt.hist(pageSpeeds, bins = 15)"
   ]
  },
  {
   "cell_type": "code",
   "execution_count": null,
   "metadata": {},
   "outputs": [],
   "source": [
    "#Show the edges of histogram"
   ]
  },
  {
   "cell_type": "code",
   "execution_count": 11,
   "metadata": {},
   "outputs": [
    {
     "data": {
      "text/plain": [
       "(array([   3.,    6.,   49.,  235.,  578., 1220., 1913., 2196., 1852.,\n",
       "        1128.,  550.,  203.,   57.,    7.,    3.]),\n",
       " array([-1.15304713, -0.59615344, -0.03925974,  0.51763395,  1.07452764,\n",
       "         1.63142133,  2.18831502,  2.74520872,  3.30210241,  3.8589961 ,\n",
       "         4.41588979,  4.97278348,  5.52967718,  6.08657087,  6.64346456,\n",
       "         7.20035825]),\n",
       " <BarContainer object of 15 artists>)"
      ]
     },
     "execution_count": 11,
     "metadata": {},
     "output_type": "execute_result"
    },
    {
     "data": {
      "image/png": "[encoded data removed]",
      "text/plain": [
       "<Figure size 432x288 with 1 Axes>"
      ]
     },
     "metadata": {
      "needs_background": "light"
     },
     "output_type": "display_data"
    }
   ],
   "source": [
    "fig, ax = plt.subplots()\n",
    "plt.hist(pageSpeeds, bins = 15, edgecolor = 'red')"
   ]
  }
 ],
 "metadata": {
  "kernelspec": {
   "display_name": "Python 3 (ipykernel)",
   "language": "python",
   "name": "python3"
  },
  "language_info": {
   "codemirror_mode": {
    "name": "ipython",
    "version": 3
   },
   "file_extension": ".py",
   "mimetype": "text/x-python",
   "name": "python",
   "nbconvert_exporter": "python",
   "pygments_lexer": "ipython3",
   "version": "3.8.3"
  }
 },
 "nbformat": 4,
 "nbformat_minor": 4
}
