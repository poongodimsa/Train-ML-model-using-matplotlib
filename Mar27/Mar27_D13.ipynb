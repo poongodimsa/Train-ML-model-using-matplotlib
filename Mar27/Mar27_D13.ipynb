{
 "cells": [
  {
   "cell_type": "markdown",
   "metadata": {},
   "source": [
    "# Dialogue 13\n",
    "\n",
    "Author: Poongodi P\n"
   ]
  },
  {
   "cell_type": "code",
   "execution_count": 2,
   "metadata": {},
   "outputs": [],
   "source": [
    "#Initial cell\n",
    "%matplotlib inline\n",
    "import pylab as plt\n",
    "import numpy as np\n",
    "\n",
    "# make data\n",
    "z = np.random.normal(1,15, len(x))"
   ]
  },
  {
   "cell_type": "code",
   "execution_count": 4,
   "metadata": {},
   "outputs": [],
   "source": [
    "#make boxplot of z"
   ]
  },
  {
   "cell_type": "code",
   "execution_count": 9,
   "metadata": {},
   "outputs": [
    {
     "data": {
      "text/plain": [
       "{'whiskers': [<matplotlib.lines.Line2D at 0x1e5a03eb9d0>,\n",
       "  <matplotlib.lines.Line2D at 0x1e5a03ebca0>],\n",
       " 'caps': [<matplotlib.lines.Line2D at 0x1e5a03ebf70>,\n",
       "  <matplotlib.lines.Line2D at 0x1e5a03fb280>],\n",
       " 'boxes': [<matplotlib.lines.Line2D at 0x1e5a03dd6a0>],\n",
       " 'medians': [<matplotlib.lines.Line2D at 0x1e5a03fb550>],\n",
       " 'fliers': [<matplotlib.lines.Line2D at 0x1e5a03fb820>],\n",
       " 'means': []}"
      ]
     },
     "execution_count": 9,
     "metadata": {},
     "output_type": "execute_result"
    },
    {
     "data": {
      "image/png": "[encoded data removed]",
      "text/plain": [
       "<Figure size 432x288 with 1 Axes>"
      ]
     },
     "metadata": {
      "needs_background": "light"
     },
     "output_type": "display_data"
    }
   ],
   "source": [
    "fig, ax = plt.subplots()\n",
    "plt.boxplot(z)"
   ]
  },
  {
   "cell_type": "code",
   "execution_count": 7,
   "metadata": {},
   "outputs": [],
   "source": [
    "#can you make the median line red and little thick"
   ]
  },
  {
   "cell_type": "code",
   "execution_count": 10,
   "metadata": {},
   "outputs": [
    {
     "data": {
      "text/plain": [
       "{'whiskers': [<matplotlib.lines.Line2D at 0x1e5a15b8dc0>,\n",
       "  <matplotlib.lines.Line2D at 0x1e5a10c63d0>],\n",
       " 'caps': [<matplotlib.lines.Line2D at 0x1e5a10c6670>,\n",
       "  <matplotlib.lines.Line2D at 0x1e5a10c6d00>],\n",
       " 'boxes': [<matplotlib.lines.Line2D at 0x1e5a15b8c10>],\n",
       " 'medians': [<matplotlib.lines.Line2D at 0x1e5a10c6eb0>],\n",
       " 'fliers': [<matplotlib.lines.Line2D at 0x1e5a10b7190>],\n",
       " 'means': []}"
      ]
     },
     "execution_count": 10,
     "metadata": {},
     "output_type": "execute_result"
    },
    {
     "data": {
      "image/png": "[encoded data removed]",
      "text/plain": [
       "<Figure size 432x288 with 1 Axes>"
      ]
     },
     "metadata": {
      "needs_background": "light"
     },
     "output_type": "display_data"
    }
   ],
   "source": [
    "fig, ax = plt.subplots()\n",
    "plt.boxplot(z, medianprops={\"color\": \"red\", \"linewidth\": 2})"
   ]
  },
  {
   "cell_type": "code",
   "execution_count": 18,
   "metadata": {},
   "outputs": [],
   "source": [
    "#please make the whisker green"
   ]
  },
  {
   "cell_type": "code",
   "execution_count": 11,
   "metadata": {},
   "outputs": [
    {
     "data": {
      "text/plain": [
       "{'whiskers': [<matplotlib.lines.Line2D at 0x1e5a156d6a0>,\n",
       "  <matplotlib.lines.Line2D at 0x1e5a156d970>],\n",
       " 'caps': [<matplotlib.lines.Line2D at 0x1e5a156dc40>,\n",
       "  <matplotlib.lines.Line2D at 0x1e5a156deb0>],\n",
       " 'boxes': [<matplotlib.lines.Line2D at 0x1e5a156d4f0>],\n",
       " 'medians': [<matplotlib.lines.Line2D at 0x1e5a15781c0>],\n",
       " 'fliers': [<matplotlib.lines.Line2D at 0x1e5a1578490>],\n",
       " 'means': []}"
      ]
     },
     "execution_count": 11,
     "metadata": {},
     "output_type": "execute_result"
    },
    {
     "data": {
      "image/png": "[encoded data removed]",
      "text/plain": [
       "<Figure size 432x288 with 1 Axes>"
      ]
     },
     "metadata": {
      "needs_background": "light"
     },
     "output_type": "display_data"
    }
   ],
   "source": [
    "fig, ax = plt.subplots()\n",
    "plt.boxplot(z, medianprops = {\"color\": \"red\", \"linewidth\": 2}, whiskerprops = {'color' : 'green'})\n"
   ]
  }
 ],
 "metadata": {
  "kernelspec": {
   "display_name": "Python 3 (ipykernel)",
   "language": "python",
   "name": "python3"
  },
  "language_info": {
   "codemirror_mode": {
    "name": "ipython",
    "version": 3
   },
   "file_extension": ".py",
   "mimetype": "text/x-python",
   "name": "python",
   "nbconvert_exporter": "python",
   "pygments_lexer": "ipython3",
   "version": "3.8.3"
  }
 },
 "nbformat": 4,
 "nbformat_minor": 4
}
